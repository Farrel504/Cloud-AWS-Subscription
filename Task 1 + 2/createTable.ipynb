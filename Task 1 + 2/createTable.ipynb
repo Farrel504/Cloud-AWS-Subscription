{
 "cells": [
  {
   "cell_type": "code",
   "execution_count": null,
   "metadata": {},
   "outputs": [],
   "source": [
    "import boto3\n",
    "\n",
    "dynamodb = boto3.resource('dynamodb', region_name='us-east-1')  \n",
    "\n",
    "table = dynamodb.create_table(\n",
    "    TableName='login',\n",
    "    KeySchema=[\n",
    "        {'AttributeName': 'email', 'KeyType': 'HASH'},  # Primary Key\n",
    "    ],\n",
    "    AttributeDefinitions=[\n",
    "        {'AttributeName': 'email', 'AttributeType': 'S'},\n",
    "    ],\n",
    "    ProvisionedThroughput={'ReadCapacityUnits': 5, 'WriteCapacityUnits': 5}\n",
    ")\n",
    "\n",
    "table.wait_until_exists()\n",
    "\n",
    "print(\"Table 'login' created\")\n"
   ]
  },
  {
   "cell_type": "code",
   "execution_count": null,
   "metadata": {},
   "outputs": [],
   "source": [
    "\n",
    "table = dynamodb.Table('login')\n",
    "for i in range(10):\n",
    "    email = f's4154552{i}@student.rmit.edu.au'\n",
    "    user_name = f'FarrelAlimin{i}'\n",
    "    password = f'{i}{(i+1)%10}{(i+2)%10}{(i+3)%10}{(i+4)%10}{(i+5)%10}'\n",
    "    \n",
    "    try:\n",
    "        table.put_item(\n",
    "            Item={\n",
    "                'email': email,\n",
    "                'user_name': user_name,\n",
    "                'password': password\n",
    "            }\n",
    "        )\n",
    "        print(f\"Inserted item {i} successfully.\")\n",
    "    except Exception as e:\n",
    "        print(f\"Error inserting item {i}: {e}\")"
   ]
  },
  {
   "cell_type": "code",
   "execution_count": null,
   "metadata": {},
   "outputs": [],
   "source": [
    "try:\n",
    "    table = dynamodb.create_table(\n",
    "        TableName= \"music\",\n",
    "        KeySchema=[\n",
    "            {'AttributeName': 'title', 'KeyType': 'HASH'},  # Partition key\n",
    "            {'AttributeName': 'year', 'KeyType': 'RANGE'}  # Sort key\n",
    "        ],\n",
    "        AttributeDefinitions=[\n",
    "            {'AttributeName': 'title', 'AttributeType': 'S'},\n",
    "            {'AttributeName': 'year', 'AttributeType': 'S'}\n",
    "        ],\n",
    "        ProvisionedThroughput={\n",
    "            'ReadCapacityUnits': 5,\n",
    "            'WriteCapacityUnits': 5\n",
    "        }\n",
    "    )\n",
    "    \n",
    "    table.wait_until_exists()\n",
    "    print(f\"Table music created successfully.\")\n",
    "except Exception as e:\n",
    "    print(f\"Error creating table: {e}\")\n"
   ]
  }
 ],
 "metadata": {
  "kernelspec": {
   "display_name": "deep_learning",
   "language": "python",
   "name": "python3"
  },
  "language_info": {
   "codemirror_mode": {
    "name": "ipython",
    "version": 3
   },
   "file_extension": ".py",
   "mimetype": "text/x-python",
   "name": "python",
   "nbconvert_exporter": "python",
   "pygments_lexer": "ipython3",
   "version": "3.10.9"
  }
 },
 "nbformat": 4,
 "nbformat_minor": 2
}
