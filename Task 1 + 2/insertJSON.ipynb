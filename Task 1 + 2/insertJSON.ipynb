{
 "cells": [
  {
   "cell_type": "code",
   "execution_count": null,
   "metadata": {},
   "outputs": [],
   "source": [
    "import json\n",
    "import boto3\n",
    "\n",
    "\n",
    "with open('2025a1.json', 'r') as file:\n",
    "    data = json.load(file)\n",
    "\n",
    "\n",
    "dynamodb = boto3.resource('dynamodb', region_name='us-east-1')\n",
    "table = dynamodb.Table('music')\n",
    "\n",
    "\n",
    "total = 0\n",
    "\n",
    "for song, i in data['songs']:\n",
    "    try:\n",
    "        table.put_item(\n",
    "            Item={\n",
    "                'title': song['title'],\n",
    "                'year': song['year'],\n",
    "                'artist': song['artist'],\n",
    "                'album': song['album'],\n",
    "                'img_url': song['img_url']\n",
    "            }\n",
    "        )\n",
    "        total = ++i;\n",
    "        print(f\"Inserted song '{song['title']}' successfully. \")\n",
    "    except Exception as e:\n",
    "        print(f\"Error inserting song '{song['title']}': {e}\")\n",
    "\n",
    "print(f\"Total songs inserted: {total}\")\n"
   ]
  }
 ],
 "metadata": {
  "kernelspec": {
   "display_name": "deep_learning",
   "language": "python",
   "name": "python3"
  },
  "language_info": {
   "codemirror_mode": {
    "name": "ipython",
    "version": 3
   },
   "file_extension": ".py",
   "mimetype": "text/x-python",
   "name": "python",
   "nbconvert_exporter": "python",
   "pygments_lexer": "ipython3",
   "version": "3.10.9"
  }
 },
 "nbformat": 4,
 "nbformat_minor": 2
}
