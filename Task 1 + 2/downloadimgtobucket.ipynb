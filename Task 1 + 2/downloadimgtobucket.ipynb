{
 "cells": [
  {
   "cell_type": "code",
   "execution_count": null,
   "metadata": {},
   "outputs": [],
   "source": [
    "import boto3\n",
    "import requests\n",
    "import os\n",
    "import json\n",
    "\n",
    "with open('2025a1.json', 'r') as file:\n",
    "    data = json.load(file)\n",
    "\n",
    "s3 = boto3.client('s3', region_name='us-east-1')  \n",
    "bucket_name = 'rmit-music-images'  \n",
    "\n",
    "# Create the bucket if it doesn't exist\n",
    "try:\n",
    "    s3.create_bucket(Bucket=bucket_name)\n",
    "    print(f\"Bucket '{bucket_name}' created successfully.\")\n",
    "except Exception as e:\n",
    "    print(f\"Bucket '{bucket_name}' already exists or cannot be created: {e}\")\n",
    "\n",
    "\n",
    "if not os.path.exists('downloaded_images'):\n",
    "    os.makedirs('downloaded_images')\n",
    "\n",
    "for song in data['songs']:\n",
    "    img_url = song['img_url']\n",
    "    img_name = img_url.split(\"/\")[-1] \n",
    "\n",
    "    try:\n",
    "        response = requests.get(img_url)\n",
    "        response.raise_for_status() \n",
    "\n",
    "        img_path = os.path.join('downloaded_images', img_name)\n",
    "        with open(img_path, 'wb') as img_file:\n",
    "            img_file.write(response.content)\n",
    "\n",
    "        print(f\"Downloaded {img_name} successfully.\")\n",
    "\n",
    "        s3.upload_file(\n",
    "            Filename=img_path,\n",
    "            Bucket=bucket_name,\n",
    "            Key=f'images/{img_name}',\n",
    "        )\n",
    "        print(f\"Uploaded {img_name} to S3 bucket '{bucket_name}' successfully.\")\n",
    "\n",
    "        # Remove the downloaded image after uploading to S3\n",
    "        os.remove(img_path)\n",
    "\n",
    "    except requests.RequestException as e:\n",
    "        print(f\"Failed to download {img_name}: {e}\")\n",
    "    except Exception as e:\n",
    "        print(f\"Failed to upload {img_name} to S3: {e}\")\n",
    "\n",
    "os.rmdir('downloaded_images')\n"
   ]
  }
 ],
 "metadata": {
  "kernelspec": {
   "display_name": "deep_learning",
   "language": "python",
   "name": "python3"
  },
  "language_info": {
   "codemirror_mode": {
    "name": "ipython",
    "version": 3
   },
   "file_extension": ".py",
   "mimetype": "text/x-python",
   "name": "python",
   "nbconvert_exporter": "python",
   "pygments_lexer": "ipython3",
   "version": "3.10.9"
  }
 },
 "nbformat": 4,
 "nbformat_minor": 2
}
